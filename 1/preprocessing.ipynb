{
 "cells": [
  {
   "cell_type": "code",
   "execution_count": 38,
   "metadata": {},
   "outputs": [],
   "source": [
    "import numpy as np\n",
    "import pandas as pd\n"
   ]
  },
  {
   "cell_type": "code",
   "execution_count": 39,
   "metadata": {},
   "outputs": [],
   "source": [
    "class preprocessing():\n",
    "    def scale(data):\n",
    "        std = np.std(data,axis=0)\n",
    "        data = (data-np.mean(data,axis=0))/std\n",
    "        return data\n",
    "    def MinMaxScaler(data):\n",
    "        max_value = np.max(data)\n",
    "        min_value = np.min(data)\n",
    "        return (data - min_value)/(max_value - min_value)\n",
    "    def MaxAbsScaler(data):\n",
    "        max_value = np.max(data)\n",
    "        min_value = np.min(data)\n",
    "        return (data - min_value)/(max_value - min_value)*2-1\n",
    "    def Imputer(data,missing_values,axis,copy=True,strategy = None):\n",
    "        if strategy == \"mean\":\n",
    "            data = data.fillna(data.mean())\n",
    "        if strategy == \"median\":\n",
    "            data = data.fillna(data.median())\n",
    "            \n",
    "    def Binarizer(data,shreshold):\n",
    "        \n",
    "        \n",
    "        \n",
    "        return data\n",
    "            "
   ]
  },
  {
   "cell_type": "code",
   "execution_count": 30,
   "metadata": {},
   "outputs": [
    {
     "name": "stdout",
     "output_type": "stream",
     "text": [
      "     0    1    2\n",
      "0  1.0 -1.0  2.0\n",
      "1  2.0  NaN  0.0\n",
      "2  0.0  3.0 -1.0\n"
     ]
    },
    {
     "data": {
      "text/html": [
       "<div>\n",
       "<style scoped>\n",
       "    .dataframe tbody tr th:only-of-type {\n",
       "        vertical-align: middle;\n",
       "    }\n",
       "\n",
       "    .dataframe tbody tr th {\n",
       "        vertical-align: top;\n",
       "    }\n",
       "\n",
       "    .dataframe thead th {\n",
       "        text-align: right;\n",
       "    }\n",
       "</style>\n",
       "<table border=\"1\" class=\"dataframe\">\n",
       "  <thead>\n",
       "    <tr style=\"text-align: right;\">\n",
       "      <th></th>\n",
       "      <th>0</th>\n",
       "      <th>1</th>\n",
       "      <th>2</th>\n",
       "    </tr>\n",
       "  </thead>\n",
       "  <tbody>\n",
       "    <tr>\n",
       "      <th>0</th>\n",
       "      <td>1.0</td>\n",
       "      <td>-1.0</td>\n",
       "      <td>2.0</td>\n",
       "    </tr>\n",
       "    <tr>\n",
       "      <th>1</th>\n",
       "      <td>2.0</td>\n",
       "      <td>1.0</td>\n",
       "      <td>0.0</td>\n",
       "    </tr>\n",
       "    <tr>\n",
       "      <th>2</th>\n",
       "      <td>0.0</td>\n",
       "      <td>3.0</td>\n",
       "      <td>-1.0</td>\n",
       "    </tr>\n",
       "  </tbody>\n",
       "</table>\n",
       "</div>"
      ],
      "text/plain": [
       "     0    1    2\n",
       "0  1.0 -1.0  2.0\n",
       "1  2.0  1.0  0.0\n",
       "2  0.0  3.0 -1.0"
      ]
     },
     "execution_count": 30,
     "metadata": {},
     "output_type": "execute_result"
    }
   ],
   "source": [
    "x = [[1., -1., 2],   # 每一行为[feature1, feature2, feature3]\n",
    "[2., 0., 0.],\n",
    "[0.,3, -1.]]\n",
    "df=pd.DataFrame(x)\n",
    "df[1][1] = 'Nan'\n",
    "print(df)\n",
    "df = preprocessing.Imputer(df,'Nan',axis=0,strategy = 'median')\n",
    "df"
   ]
  },
  {
   "cell_type": "code",
   "execution_count": 37,
   "metadata": {},
   "outputs": [
    {
     "ename": "NameError",
     "evalue": "name 'y_true' is not defined",
     "output_type": "error",
     "traceback": [
      "\u001b[1;31m---------------------------------------------------------------------------\u001b[0m",
      "\u001b[1;31mNameError\u001b[0m                                 Traceback (most recent call last)",
      "\u001b[1;32m<ipython-input-37-7552ddda78e2>\u001b[0m in \u001b[0;36m<module>\u001b[1;34m\u001b[0m\n\u001b[1;32m----> 1\u001b[1;33m \u001b[1;32mclass\u001b[0m \u001b[0mmetrics\u001b[0m\u001b[1;33m(\u001b[0m\u001b[0my_true\u001b[0m\u001b[1;33m=\u001b[0m\u001b[0my_true\u001b[0m\u001b[1;33m,\u001b[0m\u001b[0my_pred\u001b[0m\u001b[1;33m=\u001b[0m\u001b[0my_pred\u001b[0m\u001b[1;33m)\u001b[0m\u001b[1;33m:\u001b[0m\u001b[1;33m\u001b[0m\u001b[1;33m\u001b[0m\u001b[0m\n\u001b[0m\u001b[0;32m      2\u001b[0m     \u001b[0mTP\u001b[0m \u001b[1;33m=\u001b[0m \u001b[1;36m0\u001b[0m\u001b[1;33m\u001b[0m\u001b[1;33m\u001b[0m\u001b[0m\n\u001b[0;32m      3\u001b[0m     \u001b[0mTN\u001b[0m \u001b[1;33m=\u001b[0m \u001b[1;36m0\u001b[0m\u001b[1;33m\u001b[0m\u001b[1;33m\u001b[0m\u001b[0m\n\u001b[0;32m      4\u001b[0m     \u001b[0mFP\u001b[0m \u001b[1;33m=\u001b[0m \u001b[1;36m0\u001b[0m\u001b[1;33m\u001b[0m\u001b[1;33m\u001b[0m\u001b[0m\n\u001b[0;32m      5\u001b[0m     \u001b[0mFN\u001b[0m \u001b[1;33m=\u001b[0m \u001b[1;36m0\u001b[0m\u001b[1;33m\u001b[0m\u001b[1;33m\u001b[0m\u001b[0m\n",
      "\u001b[1;31mNameError\u001b[0m: name 'y_true' is not defined"
     ]
    }
   ],
   "source": [
    "class metrics(y_true=y_true,y_pred=y_pred):\n",
    "    TP = 0\n",
    "    TN = 0\n",
    "    FP = 0\n",
    "    FN = 0\n",
    "    if y_true[i] == 1 and y_pred[i] == 1:\n",
    "        TP += 1\n",
    "    if y_true[i] == 0 and y_pred[i] == 0:\n",
    "        TN += 1            \n",
    "    if y_true[i] == 0 and y_pred[i] == 1:\n",
    "        FP += 1    \n",
    "    if y_true[i] == 1 and y_pred[i] == 0:\n",
    "        FN += 1  \n",
    "        \n",
    "    def accuracy_score(y_true, y_pred):\n",
    "        return ((TP+TN)/(TP+TN+FP+FN))\n",
    "    \n",
    "    def recall_score(y_true,y_pred):\n",
    "        return (TP / (TP + FN))\n",
    "    \n",
    "    def f1_score(y_true,y_pred):\n",
    "        R = TP / (TP + FN)\n",
    "        P = TP / (TP + FP)\n",
    "        Acc = (TP + TN) / (TP + TN + FP + FN)\n",
    "        F1 = 2 * P * R / (P + R)\n",
    "        \n",
    "    def confusion_matrix(y_true,y_pred):\n",
    "        data={\n",
    "    'T':[TP,FP],\n",
    "    'F':[FP,FN]\n",
    "            }\n",
    "        df=pd.DataFrame(data)\n",
    "        "
   ]
  },
  {
   "cell_type": "code",
   "execution_count": null,
   "metadata": {},
   "outputs": [],
   "source": []
  }
 ],
 "metadata": {
  "kernelspec": {
   "display_name": "Python 3",
   "language": "python",
   "name": "python3"
  },
  "language_info": {
   "codemirror_mode": {
    "name": "ipython",
    "version": 3
   },
   "file_extension": ".py",
   "mimetype": "text/x-python",
   "name": "python",
   "nbconvert_exporter": "python",
   "pygments_lexer": "ipython3",
   "version": "3.8.3"
  }
 },
 "nbformat": 4,
 "nbformat_minor": 4
}
