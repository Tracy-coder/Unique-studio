{
 "cells": [
  {
   "cell_type": "code",
   "execution_count": 1,
   "metadata": {},
   "outputs": [],
   "source": [
    "import matplotlib.pyplot as plt\n",
    "import numpy as np\n",
    "import pandas as pd\n",
    "import operator\n",
    "\n"
   ]
  },
  {
   "cell_type": "code",
   "execution_count": 2,
   "metadata": {},
   "outputs": [],
   "source": [
    "# 读取数据\n",
    "PATH = './pro_data/'\n",
    "df = pd.read_csv(PATH+\"pro.titanic.csv\")\n",
    "data = df.values\n",
    "\n",
    "# 用留出法划分数据集\n",
    "# def split_train_test(data,test_ratio):\n",
    "#     np.random.seed(1)\n",
    "#     randomlist = np.random.permutation(len(data))\n",
    "#     test_set_size = round(int(len(data)) * test_ratio) # 测试集的大小\n",
    "#     test=data[:test_set_size,:]\n",
    "#     train= data[test_set_size:,:]\n",
    "#     return test,train\n",
    "\n",
    "# test,data = split_train_test(data,0.2)\n",
    "# x_data = data[:,1:]\n",
    "# y_data = data[:,1]\n",
    "# print(x_data.shape[0])\n",
    "# x_test = test[:,1:]\n",
    "# y_test = test[:,1]\n"
   ]
  },
  {
   "cell_type": "code",
   "execution_count": 3,
   "metadata": {},
   "outputs": [
    {
     "name": "stdout",
     "output_type": "stream",
     "text": [
      "[[[0.00000000e+00 0.00000000e+00 3.00000000e+00 ... 0.00000000e+00\n",
      "   1.41510576e-02 2.00000000e+00]\n",
      "  [1.00000000e+00 1.00000000e+00 1.00000000e+00 ... 0.00000000e+00\n",
      "   1.39135735e-01 1.00000000e+00]\n",
      "  [2.00000000e+00 1.00000000e+00 3.00000000e+00 ... 0.00000000e+00\n",
      "   1.54685698e-02 2.00000000e+00]\n",
      "  ...\n",
      "  [8.60000000e+01 0.00000000e+00 3.00000000e+00 ... 3.00000000e+00\n",
      "   6.70955315e-02 2.00000000e+00]\n",
      "  [8.70000000e+01 0.00000000e+00 3.00000000e+00 ... 0.00000000e+00\n",
      "   1.57125536e-02 2.00000000e+00]\n",
      "  [8.80000000e+01 1.00000000e+00 1.00000000e+00 ... 2.00000000e+00\n",
      "   5.13341812e-01 2.00000000e+00]]\n",
      "\n",
      " [[8.90000000e+01 0.00000000e+00 3.00000000e+00 ... 0.00000000e+00\n",
      "   1.57125536e-02 2.00000000e+00]\n",
      "  [9.00000000e+01 0.00000000e+00 3.00000000e+00 ... 0.00000000e+00\n",
      "   1.57125536e-02 2.00000000e+00]\n",
      "  [9.10000000e+01 0.00000000e+00 3.00000000e+00 ... 0.00000000e+00\n",
      "   1.53303774e-02 2.00000000e+00]\n",
      "  ...\n",
      "  [1.75000000e+02 0.00000000e+00 3.00000000e+00 ... 1.00000000e+00\n",
      "   1.53303774e-02 2.00000000e+00]\n",
      "  [1.76000000e+02 0.00000000e+00 3.00000000e+00 ... 1.00000000e+00\n",
      "   4.97076879e-02 2.00000000e+00]\n",
      "  [1.77000000e+02 0.00000000e+00 1.00000000e+00 ... 0.00000000e+00\n",
      "   5.60430676e-02 1.00000000e+00]]\n",
      "\n",
      " [[1.78000000e+02 0.00000000e+00 2.00000000e+00 ... 0.00000000e+00\n",
      "   2.53743101e-02 2.00000000e+00]\n",
      "  [1.79000000e+02 0.00000000e+00 3.00000000e+00 ... 0.00000000e+00\n",
      "   0.00000000e+00 2.00000000e+00]\n",
      "  [1.80000000e+02 0.00000000e+00 3.00000000e+00 ... 2.00000000e+00\n",
      "   1.35752559e-01 2.00000000e+00]\n",
      "  ...\n",
      "  [2.64000000e+02 0.00000000e+00 3.00000000e+00 ... 0.00000000e+00\n",
      "   1.51269926e-02 3.00000000e+00]\n",
      "  [2.65000000e+02 0.00000000e+00 2.00000000e+00 ... 0.00000000e+00\n",
      "   2.04946351e-02 2.00000000e+00]\n",
      "  [2.66000000e+02 0.00000000e+00 3.00000000e+00 ... 1.00000000e+00\n",
      "   7.74648410e-02 2.00000000e+00]]\n",
      "\n",
      " ...\n",
      "\n",
      " [[6.23000000e+02 0.00000000e+00 3.00000000e+00 ... 0.00000000e+00\n",
      "   1.53303774e-02 2.00000000e+00]\n",
      "  [6.24000000e+02 0.00000000e+00 3.00000000e+00 ... 0.00000000e+00\n",
      "   3.14251071e-02 2.00000000e+00]\n",
      "  [6.25000000e+02 0.00000000e+00 1.00000000e+00 ... 0.00000000e+00\n",
      "   6.30860002e-02 2.00000000e+00]\n",
      "  ...\n",
      "  [7.09000000e+02 1.00000000e+00 3.00000000e+00 ... 1.00000000e+00\n",
      "   2.97578198e-02 1.00000000e+00]\n",
      "  [7.10000000e+02 1.00000000e+00 1.00000000e+00 ... 0.00000000e+00\n",
      "   9.66257633e-02 1.00000000e+00]\n",
      "  [7.11000000e+02 0.00000000e+00 1.00000000e+00 ... 0.00000000e+00\n",
      "   5.18221487e-02 2.00000000e+00]]\n",
      "\n",
      " [[7.12000000e+02 1.00000000e+00 1.00000000e+00 ... 0.00000000e+00\n",
      "   1.01497240e-01 2.00000000e+00]\n",
      "  [7.13000000e+02 0.00000000e+00 3.00000000e+00 ... 0.00000000e+00\n",
      "   1.85101689e-02 2.00000000e+00]\n",
      "  [7.14000000e+02 0.00000000e+00 2.00000000e+00 ... 0.00000000e+00\n",
      "   2.53743101e-02 2.00000000e+00]\n",
      "  ...\n",
      "  [7.98000000e+02 0.00000000e+00 3.00000000e+00 ... 0.00000000e+00\n",
      "   1.41104587e-02 1.00000000e+00]\n",
      "  [7.99000000e+02 0.00000000e+00 3.00000000e+00 ... 1.00000000e+00\n",
      "   4.71376607e-02 2.00000000e+00]\n",
      "  [8.00000000e+02 0.00000000e+00 2.00000000e+00 ... 0.00000000e+00\n",
      "   2.53743101e-02 2.00000000e+00]]\n",
      "\n",
      " [[8.01000000e+02 1.00000000e+00 2.00000000e+00 ... 1.00000000e+00\n",
      "   5.12365877e-02 2.00000000e+00]\n",
      "  [8.02000000e+02 1.00000000e+00 1.00000000e+00 ... 2.00000000e+00\n",
      "   2.34224401e-01 2.00000000e+00]\n",
      "  [8.03000000e+02 1.00000000e+00 3.00000000e+00 ... 1.00000000e+00\n",
      "   1.66234913e-02 1.00000000e+00]\n",
      "  ...\n",
      "  [8.87000000e+02 1.00000000e+00 1.00000000e+00 ... 0.00000000e+00\n",
      "   5.85561003e-02 2.00000000e+00]\n",
      "  [8.88000000e+02 0.00000000e+00 3.00000000e+00 ... 2.00000000e+00\n",
      "   4.57713517e-02 2.00000000e+00]\n",
      "  [8.89000000e+02 1.00000000e+00 1.00000000e+00 ... 0.00000000e+00\n",
      "   5.85561003e-02 1.00000000e+00]]]\n",
      "(10, 89, 9)\n"
     ]
    }
   ],
   "source": [
    "# 用交叉验证法划分训练集和测试集\n",
    "def split_train_test(data,k):\n",
    "    length = len(data)//k  # 取整除法\n",
    "    data_set = []\n",
    "    for i in range(k):\n",
    "        data_set.append(data[i*length:(i+1)*length])\n",
    "    return data_set\n",
    "data = split_train_test(data,10)\n",
    "data = np.array(data)\n",
    "print(data)\n",
    "print(data.shape)\n",
    "test_set = []\n",
    "train_set = []\n",
    "for i in range(9):\n",
    "    test = data[i]\n",
    "    train = np.delete(data,i,axis=1)\n",
    "    test_set.append(test)\n",
    "    train_set.append(train)\n"
   ]
  },
  {
   "cell_type": "code",
   "execution_count": 5,
   "metadata": {},
   "outputs": [
    {
     "name": "stdout",
     "output_type": "stream",
     "text": [
      "(880, 9)\n",
      "38 50 0 0\n",
      "1.0 1.0 1.0 1.0\n",
      "(880, 9)\n",
      "20 68 0 0\n",
      "1.0 1.0 1.0 1.0\n",
      "(880, 9)\n",
      "33 55 0 0\n",
      "1.0 1.0 1.0 1.0\n",
      "(880, 9)\n",
      "45 43 0 0\n",
      "1.0 1.0 1.0 1.0\n",
      "(880, 9)\n",
      "36 52 0 0\n",
      "1.0 1.0 1.0 1.0\n",
      "(880, 9)\n",
      "32 56 0 0\n",
      "1.0 1.0 1.0 1.0\n",
      "(880, 9)\n",
      "38 50 0 0\n",
      "1.0 1.0 1.0 1.0\n",
      "(880, 9)\n",
      "32 56 0 0\n",
      "1.0 1.0 1.0 1.0\n",
      "(880, 9)\n",
      "30 58 0 0\n",
      "1.0 1.0 1.0 1.0\n"
     ]
    }
   ],
   "source": [
    "\n",
    "\n",
    "def est(train_set):    \n",
    "    for i in range(9):\n",
    "        data = train_set[i].reshape(880,9)\n",
    "        print(data.shape)\n",
    "        x_data = data[:,1:]\n",
    "        y_data = data[:,1]\n",
    "        train = train_set[i]\n",
    "        test = test_set[i]\n",
    "        x_test = test[:,1:]\n",
    "        y_test = test[:,1]\n",
    "        TP = 0\n",
    "        TN = 0\n",
    "        FP = 0\n",
    "        FN = 0\n",
    "        for i in range(test.shape[0]-1):\n",
    "            if y_test[i] == 1 and knn(x_test[i],x_data,y_data) ==1:\n",
    "                TP += 1\n",
    "            if y_test[i] == 0 and knn(x_test[i],x_data,y_data) ==0:\n",
    "                TN += 1            \n",
    "            if y_test[i] == 0 and knn(x_test[i],x_data,y_data) ==1:\n",
    "                FP += 1    \n",
    "            if y_test[i] == 1 and knn(x_test[i],x_data,y_data) ==0:\n",
    "                FN += 1  \n",
    "\n",
    "        Acc = (TP+TN)/(TP+TN+FP+FN)\n",
    "        R = TP/(TP+FN)\n",
    "        P = TP/(TP+FP)\n",
    "        F1 = 2*P*R/(P+R)\n",
    "        print(TP,TN,FP,FN)\n",
    "        print(Acc,R,P,F1)   \n",
    "\n",
    "        \n",
    "def knn(X,x_data,y_data):  # X是一维数组 （应该\n",
    "    diffMat = X-x_data  \n",
    "    distances = diffMat**2    # 计算距离 欧氏距离hhh\n",
    "    distance = (distances.sum(axis=1))**0.5  \n",
    "    sortedDistance = distance.argsort()  # 从小到大进行排列 sortedDistances返回的是索引\n",
    "    \n",
    "    classCount={}  # 计数\n",
    "    k=5  \n",
    "    for i in range(k):\n",
    "        votelabel = y_data[sortedDistance[i]]  \n",
    "        if votelabel not in classCount.keys():\n",
    "            classCount[votelabel] =0\n",
    "        classCount[votelabel] += 1\n",
    "        sortedclasscount=sorted(classCount.items(),key=operator.itemgetter(1),reverse=True) \n",
    "        # classCount.iteritems()将classCount字典分解为元组列表，\n",
    "        # operator.itemgetter(1)按照第二个元素的次序对元组进行排序，\n",
    "        # reverse=True是逆序，即按照从大到小的顺序排列\n",
    "        knnclass=sortedclasscount[0][0]\n",
    "        return knnclass\n",
    "\n",
    "est(train_set)"
   ]
  },
  {
   "cell_type": "code",
   "execution_count": 14,
   "metadata": {},
   "outputs": [],
   "source": [
    "# def eva(x_test,y_test):\n",
    "#     TP = 0 # 真正例的个数\n",
    "#     TN = 0 # 真反例\n",
    "#     FP = 0 # 假正例\n",
    "#     FN = 0 # 假反例\n",
    "#     for i in range(test.shape[0]-1):\n",
    "#         if y_test[i] == 1 and knn(x_test[i]) ==1:\n",
    "#             TP += 1\n",
    "#     for i in range(test.shape[0]-1):\n",
    "#         if y_test[i] == 0 and knn(x_test[i]) ==0:\n",
    "#             TN += 1            \n",
    "#     for i in range(test.shape[0]-1):\n",
    "#         if y_test[i] == 0 and knn(x_test[i]) ==1:\n",
    "#             FP += 1    \n",
    "#     for i in range(test.shape[0]-1):\n",
    "#         if y_test[i] == 1 and knn(x_test[i]) ==0:\n",
    "#             FN += 1  \n",
    "            \n",
    "#     Acc = (TP+TN)/(TP+TN+FP+FN)\n",
    "#     R = TP/(TP+FN)\n",
    "#     P = TP/(TP+FP)\n",
    "#     F1 = 2*P*R/(P+R)\n",
    "#     print(TP,TN,FP,FN)\n",
    "#     return Acc,R,P,F1"
   ]
  },
  {
   "cell_type": "code",
   "execution_count": 15,
   "metadata": {},
   "outputs": [
    {
     "name": "stdout",
     "output_type": "stream",
     "text": [
      "58 116 2 1\n"
     ]
    },
    {
     "data": {
      "text/plain": [
       "(0.9830508474576272,\n",
       " 0.9830508474576272,\n",
       " 0.9666666666666667,\n",
       " 0.9747899159663865)"
      ]
     },
     "execution_count": 15,
     "metadata": {},
     "output_type": "execute_result"
    }
   ],
   "source": []
  },
  {
   "cell_type": "code",
   "execution_count": 3,
   "metadata": {},
   "outputs": [
    {
     "ename": "NameError",
     "evalue": "name 'test' is not defined",
     "output_type": "error",
     "traceback": [
      "\u001b[1;31m---------------------------------------------------------------------------\u001b[0m",
      "\u001b[1;31mNameError\u001b[0m                                 Traceback (most recent call last)",
      "\u001b[1;32m<ipython-input-3-bc1efdcae3cc>\u001b[0m in \u001b[0;36m<module>\u001b[1;34m\u001b[0m\n\u001b[0;32m      2\u001b[0m \u001b[0mx_data\u001b[0m \u001b[1;33m=\u001b[0m \u001b[0mdata\u001b[0m\u001b[1;33m[\u001b[0m\u001b[1;33m:\u001b[0m\u001b[1;33m,\u001b[0m\u001b[1;36m1\u001b[0m\u001b[1;33m:\u001b[0m\u001b[1;33m]\u001b[0m\u001b[1;33m\u001b[0m\u001b[1;33m\u001b[0m\u001b[0m\n\u001b[0;32m      3\u001b[0m \u001b[0my_data\u001b[0m \u001b[1;33m=\u001b[0m \u001b[0mdata\u001b[0m\u001b[1;33m[\u001b[0m\u001b[1;33m:\u001b[0m\u001b[1;33m,\u001b[0m\u001b[1;36m1\u001b[0m\u001b[1;33m]\u001b[0m\u001b[1;33m\u001b[0m\u001b[1;33m\u001b[0m\u001b[0m\n\u001b[1;32m----> 4\u001b[1;33m \u001b[0mx_test\u001b[0m \u001b[1;33m=\u001b[0m \u001b[0mtest\u001b[0m\u001b[1;33m[\u001b[0m\u001b[1;33m:\u001b[0m\u001b[1;33m,\u001b[0m\u001b[1;36m1\u001b[0m\u001b[1;33m:\u001b[0m\u001b[1;33m]\u001b[0m\u001b[1;33m\u001b[0m\u001b[1;33m\u001b[0m\u001b[0m\n\u001b[0m\u001b[0;32m      5\u001b[0m \u001b[0my_test\u001b[0m \u001b[1;33m=\u001b[0m \u001b[0mtest\u001b[0m\u001b[1;33m[\u001b[0m\u001b[1;33m:\u001b[0m\u001b[1;33m,\u001b[0m\u001b[1;36m1\u001b[0m\u001b[1;33m]\u001b[0m\u001b[1;33m\u001b[0m\u001b[1;33m\u001b[0m\u001b[0m\n\u001b[0;32m      6\u001b[0m \u001b[0mdata\u001b[0m \u001b[1;33m=\u001b[0m \u001b[0mKNeighborsClassifier\u001b[0m\u001b[1;33m(\u001b[0m\u001b[1;33m)\u001b[0m\u001b[1;33m\u001b[0m\u001b[1;33m\u001b[0m\u001b[0m\n",
      "\u001b[1;31mNameError\u001b[0m: name 'test' is not defined"
     ]
    }
   ],
   "source": [
    "from sklearn.neighbors import KNeighborsClassifier\n",
    "x_data = data[:,1:]\n",
    "y_data = data[:,1]\n",
    "x_test = test[:,1:]\n",
    "y_test = test[:,1]\n",
    "data = KNeighborsClassifier()\n",
    "\n",
    "data.fit(x_data, y_data)\n",
    "\n",
    "data.score(x_test, y_test)"
   ]
  },
  {
   "cell_type": "code",
   "execution_count": 9,
   "metadata": {},
   "outputs": [
    {
     "ename": "ImportError",
     "evalue": "cannot import name 'train_test_split' from 'sklearn' (C:\\Users\\86189\\python2\\lib\\site-packages\\sklearn\\__init__.py)",
     "output_type": "error",
     "traceback": [
      "\u001b[1;31m---------------------------------------------------------------------------\u001b[0m",
      "\u001b[1;31mImportError\u001b[0m                               Traceback (most recent call last)",
      "\u001b[1;32m<ipython-input-9-be8ce5cfdc42>\u001b[0m in \u001b[0;36m<module>\u001b[1;34m\u001b[0m\n\u001b[0;32m      1\u001b[0m \u001b[1;32mfrom\u001b[0m \u001b[0msklearn\u001b[0m\u001b[1;33m.\u001b[0m\u001b[0mneighbors\u001b[0m \u001b[1;32mimport\u001b[0m \u001b[0mKNeighborsClassifier\u001b[0m\u001b[1;33m\u001b[0m\u001b[1;33m\u001b[0m\u001b[0m\n\u001b[1;32m----> 2\u001b[1;33m \u001b[1;32mfrom\u001b[0m \u001b[0msklearn\u001b[0m \u001b[1;32mimport\u001b[0m \u001b[0mtrain_test_split\u001b[0m\u001b[1;33m\u001b[0m\u001b[1;33m\u001b[0m\u001b[0m\n\u001b[0m\u001b[0;32m      3\u001b[0m \u001b[1;31m## 区分训练集和测试集，75%的训练集和25%的测试集\u001b[0m\u001b[1;33m\u001b[0m\u001b[1;33m\u001b[0m\u001b[1;33m\u001b[0m\u001b[0m\n\u001b[0;32m      4\u001b[0m \u001b[0mtrain_data\u001b[0m\u001b[1;33m,\u001b[0m \u001b[0mtest_data\u001b[0m \u001b[1;33m=\u001b[0m \u001b[0mtrain_test_split\u001b[0m\u001b[1;33m(\u001b[0m\u001b[0mdata\u001b[0m\u001b[1;33m)\u001b[0m\u001b[1;33m\u001b[0m\u001b[1;33m\u001b[0m\u001b[0m\n\u001b[0;32m      5\u001b[0m \u001b[1;31m## 训练并预测，其中选取k=15\u001b[0m\u001b[1;33m\u001b[0m\u001b[1;33m\u001b[0m\u001b[1;33m\u001b[0m\u001b[0m\n",
      "\u001b[1;31mImportError\u001b[0m: cannot import name 'train_test_split' from 'sklearn' (C:\\Users\\86189\\python2\\lib\\site-packages\\sklearn\\__init__.py)"
     ]
    }
   ],
   "source": [
    "from sklearn.neighbors import KNeighborsClassifier\n",
    "from sklearn import train_test_split\n",
    "## 区分训练集和测试集，75%的训练集和25%的测试集\n",
    "train_data, test_data = train_test_split(data)\n",
    "## 训练并预测，其中选取k=15\n",
    "clf = neighbors.KNeighborsClassifier(5, 'distance')\n",
    "clf.fit(train_data[:, 1:], train_data[:,1])\n",
    "Z = clf.predict(test_data[:, 1:])\n",
    "clf.score(test_data[:, 1:], test_data[:, 1])"
   ]
  },
  {
   "cell_type": "code",
   "execution_count": null,
   "metadata": {},
   "outputs": [],
   "source": []
  },
  {
   "cell_type": "code",
   "execution_count": null,
   "metadata": {},
   "outputs": [],
   "source": []
  }
 ],
 "metadata": {
  "kernelspec": {
   "display_name": "Python 3",
   "language": "python",
   "name": "python3"
  },
  "language_info": {
   "codemirror_mode": {
    "name": "ipython",
    "version": 3
   },
   "file_extension": ".py",
   "mimetype": "text/x-python",
   "name": "python",
   "nbconvert_exporter": "python",
   "pygments_lexer": "ipython3",
   "version": "3.8.3"
  }
 },
 "nbformat": 4,
 "nbformat_minor": 4
}
