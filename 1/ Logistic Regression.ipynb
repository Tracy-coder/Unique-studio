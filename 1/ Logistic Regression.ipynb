{
 "cells": [
  {
   "cell_type": "code",
   "execution_count": 1,
   "metadata": {},
   "outputs": [],
   "source": [
    "import numpy as np\n",
    "import pandas as pd\n",
    "import matplotlib.pyplot as plt"
   ]
  },
  {
   "cell_type": "code",
   "execution_count": 2,
   "metadata": {},
   "outputs": [],
   "source": [
    "PATH = './pro_data/'\n",
    "df = pd.read_csv(PATH+\"pro.titanic.csv\")\n",
    "\n"
   ]
  },
  {
   "cell_type": "code",
   "execution_count": 9,
   "metadata": {},
   "outputs": [
    {
     "name": "stdout",
     "output_type": "stream",
     "text": [
      "891\n",
      "9\n",
      "891\n",
      "(713, 8)\n",
      "713\n",
      "[[1.         0.         2.         ... 0.         0.02537431 2.        ]\n",
      " [1.         0.         3.         ... 0.         0.         2.        ]\n",
      " [1.         0.         3.         ... 2.         0.13575256 2.        ]\n",
      " ...\n",
      " [1.         0.         3.         ... 2.         0.04577135 2.        ]\n",
      " [1.         1.         1.         ... 0.         0.0585561  1.        ]\n",
      " [1.         0.         3.         ... 0.         0.01512699 3.        ]]\n",
      "(713,)\n"
     ]
    }
   ],
   "source": [
    "data = df.values\n",
    "m,n=np.shape(data)\n",
    "\n",
    "def split_train_test(data,test_ratio):\n",
    "    np.random.seed(1)\n",
    "    randomlist = np.random.permutation(len(data))\n",
    "    test_set_size = round(int(len(data)) * test_ratio) # 测试集的大小\n",
    "    test=data[:test_set_size,:]\n",
    "    train= data[test_set_size:,:]\n",
    "    return test,train\n",
    "\n",
    "test,data = split_train_test(data,0.2)\n",
    "x_data = data[:,1:]\n",
    "y_data = data[:,1]\n",
    "print(x_data.shape)\n",
    "print(x_data.shape[0])\n",
    "\n",
    "X_data=np.concatenate((np.ones((x_data.shape[0],1)),x_data),axis=1)\n",
    "\n",
    "x_test = test[:,1:]\n",
    "y_test = test[:,1]\n",
    "print(X_data)\n",
    "print(y_data.shape)\n",
    "y_data = y_data.reshape(713,1)"
   ]
  },
  {
   "cell_type": "code",
   "execution_count": 15,
   "metadata": {},
   "outputs": [
    {
     "name": "stdout",
     "output_type": "stream",
     "text": [
      "[[ 0.05899904]\n",
      " [-0.05451034]\n",
      " [ 0.08424196]\n",
      " [ 0.82416966]\n",
      " [-1.04752068]\n",
      " [-0.96713612]\n",
      " [ 0.63912032]\n",
      " [-0.79706063]\n",
      " [-0.43418647]]\n"
     ]
    }
   ],
   "source": [
    "def sigmoid(x):\n",
    "    return 1.0/(1+np.exp(-x))\n",
    "\n",
    "def cost(xMat,yMat,ws):\n",
    "    return np.sum((np.multiply(yMat,np.log(sigmoid(xMat*ws)))+np.multiply(1-yMat,np.log(1-sigmoid(xMat*ws)))))/-(len(xMat))\n",
    "\n",
    "\n",
    "def gradAscent(X_data,y_data,ws):\n",
    "    xMat = np.mat(X_data)  # 转化为矩阵\n",
    "    yMat = np.mat(y_data)\n",
    "    lr = 0.001   # 设置学习率和迭代次数\n",
    "    epochs = 2000\n",
    "    costList = []  # 每迭代50次 记录代价函数\n",
    "    ws = np.random.randn(xMat.shape[1],1)\n",
    "    for i in range(epochs+1):\n",
    "        h = sigmoid(np.dot(xMat,ws))\n",
    "        ws_grad = np.dot((xMat.T),(h-yMat))/xMat.shape[0]\n",
    "        \n",
    "        ws = ws-lr*ws_grad  # 更新权重\n",
    "        if i%50==0:\n",
    "            costList.append(cost(xMat,yMat,ws))\n",
    "    return ws,costList\n",
    "ws,costList=gradAscent(X_data,y_data,ws)\n",
    "print(ws)"
   ]
  },
  {
   "cell_type": "code",
   "execution_count": 19,
   "metadata": {},
   "outputs": [
    {
     "name": "stdout",
     "output_type": "stream",
     "text": [
      "(9, 1)\n",
      "[1.6629688713507234, 1.5727216204521803, 1.4929181374325053, 1.4229348179407222, 1.3620122050550298, 1.3092962611352514, 1.2638830909269994, 1.2248620834926123, 1.191353027999655, 1.1625343752245894, 1.1376617166331338, 1.1160771463478671, 1.0972111687608532, 1.080579201514603, 1.0657746503774395, 1.052460197934636, 1.0403585219745743, 1.0292432529309599, 1.0189306471450092, 1.0092722084338843, 1.0001483266681712, 0.9914629019833243, 0.9831388689816238, 0.9751145114930492, 0.9673404534979294, 0.9597772174981741, 0.9523932525883149, 0.9451633474044565, 0.9380673561033391, 0.9310891775387978, 0.9242159384129959, 0.917437340265489, 0.9107451377824648, 0.9041327222049094, 0.8975947887633894, 0.8911270712460158, 0.8847261301792387, 0.8783891838131905, 0.8721139732777942, 0.865898655015991, 0.8597417149911731]\n",
      "41\n"
     ]
    }
   ],
   "source": [
    "print(ws.shape)\n",
    "print(costList)\n",
    "print(len(costList))"
   ]
  },
  {
   "cell_type": "code",
   "execution_count": 21,
   "metadata": {},
   "outputs": [
    {
     "data": {
      "image/png": "[encoded data removed]",
      "text/plain": [
       "<Figure size 432x288 with 1 Axes>"
      ]
     },
     "metadata": {
      "needs_background": "light"
     },
     "output_type": "display_data"
    }
   ],
   "source": [
    "x=np.linspace(0,2000,41)\n",
    "plt.plot(x,costList,c='r')\n",
    "plt.title('Train')\n",
    "plt.xlabel('Epochs')\n",
    "plt.ylabel('cost')\n",
    "plt.show()"
   ]
  },
  {
   "cell_type": "code",
   "execution_count": 22,
   "metadata": {},
   "outputs": [
    {
     "name": "stdout",
     "output_type": "stream",
     "text": [
      "50 13 106 9\n",
      "0.3539325842696629 0.847457627118644 0.32051282051282054 0.4651162790697675\n"
     ]
    },
    {
     "data": {
      "text/plain": [
       "(0.847457627118644, 0.8907563025210085)"
      ]
     },
     "execution_count": 22,
     "metadata": {},
     "output_type": "execute_result"
    }
   ],
   "source": [
    "\n",
    "def predict(x_test,y_test,ws):\n",
    "    TP = 0\n",
    "    TN = 0\n",
    "    FP = 0\n",
    "    FN = 0\n",
    "    for i in range(x_test.shape[0]):\n",
    "        xMat = np.mat(test[i])\n",
    "        ws = np.mat(ws)\n",
    "        if (xMat*ws)>0:\n",
    "            result = 1\n",
    "        else:\n",
    "            result = 0\n",
    "            \n",
    "        if y_test[i] == 1 and result ==1:\n",
    "            TP += 1\n",
    "        if y_test[i] == 0 and result ==0:\n",
    "            TN += 1            \n",
    "        if y_test[i] == 0 and result ==1:\n",
    "            FP += 1    \n",
    "        if y_test[i] == 1 and result ==0:\n",
    "            FN += 1  \n",
    "\n",
    "    \n",
    "    R = TP / (TP + FN)\n",
    "    P = TP / (TP + FP)\n",
    "    Acc = (TP + TN) / (TP + TN + FP + FN)\n",
    "    F1 = 2 * P * R / (P + R)\n",
    "    print(TP,TN,FP,FN)\n",
    "    print(Acc,R,P,F1)\n",
    "\n",
    "    TPR = TP/(TP + FN)   # TPR其实就是查全率hhh\n",
    "    FPR = FP/(FP + TN)   # 假正例率\n",
    "    \n",
    "    return TPR,FPR\n",
    "predict(x_test,y_test,ws)\n",
    "# 正确率十分堪忧"
   ]
  },
  {
   "cell_type": "code",
   "execution_count": 37,
   "metadata": {},
   "outputs": [
    {
     "name": "stdout",
     "output_type": "stream",
     "text": [
      "0.33146067415730335\n",
      "AUC :  0.4\n"
     ]
    },
    {
     "data": {
      "image/png": "[encoded data removed]",
      "text/plain": [
       "<Figure size 432x288 with 1 Axes>"
      ]
     },
     "metadata": {
      "needs_background": "light"
     },
     "output_type": "display_data"
    }
   ],
   "source": [
    "TPR_list = [] #ROC 的纵坐标 真阳率\n",
    "FPR_list = [] #ROC 的横坐标 假正率\n",
    "threshold = 0.3  #阈值从0.3开始~~\n",
    "while threshold < 0.7: # 设置阈值\n",
    "    TP = 0\n",
    "    TN = 0\n",
    "    FP = 0\n",
    "    FN = 0\n",
    "    for i in range(x_test.shape[0]):\n",
    "        xMat = np.mat(test[i])\n",
    "        ws = np.mat(ws)\n",
    "        if sigmoid(xMat*ws).all()>threshold:\n",
    "            result = 1\n",
    "        else:\n",
    "            result = 0\n",
    "            \n",
    "        if y_test[i] == 1 and result ==1:\n",
    "            TP += 1\n",
    "        if y_test[i] == 0 and result ==0:\n",
    "            TN += 1            \n",
    "        if y_test[i] == 0 and result ==1:\n",
    "            FP += 1    \n",
    "        if y_test[i] == 1 and result ==0:\n",
    "            FN += 1 \n",
    "            \n",
    "        \n",
    "        \n",
    "    FPR = FP / (FP + TN)\n",
    "    TPR = TP / (TP + FN)\n",
    "    TPR_list.append(TPR)\n",
    "    FPR_list.append(FPR)\n",
    "        \n",
    "    threshold += 0.005\n",
    "        \n",
    "Acc = (TP + TN) / (TP + TN + FP + FN)\n",
    "print(Acc)\n",
    "        \n",
    "    #作图   \n",
    "plt.figure()\n",
    "plt.plot(FPR_list, TPR_list, color='green')  \n",
    "plt.plot([0, 1], [0, 1])   # 这图让我迷惑\n",
    "\n",
    "plt.xlabel('FPR')\n",
    "plt.ylabel('TPR')\n",
    "\n",
    "AUC = 0;\n",
    "for i in range(0,len(TPR_list)):\n",
    "    AUC += 0.005 * TPR_list[i];\n",
    "        \n",
    "print(\"AUC : \", round(AUC,3));    "
   ]
  },
  {
   "cell_type": "code",
   "execution_count": 26,
   "metadata": {},
   "outputs": [],
   "source": [
    "from sklearn.metrics import classification_report\n",
    "from sklearn import preprocessing\n",
    "from sklearn import linear_model"
   ]
  },
  {
   "cell_type": "code",
   "execution_count": 27,
   "metadata": {},
   "outputs": [
    {
     "name": "stderr",
     "output_type": "stream",
     "text": [
      "C:\\Users\\86189\\python2\\lib\\site-packages\\sklearn\\utils\\validation.py:73: DataConversionWarning: A column-vector y was passed when a 1d array was expected. Please change the shape of y to (n_samples, ), for example using ravel().\n",
      "  return f(**kwargs)\n"
     ]
    },
    {
     "data": {
      "text/plain": [
       "LogisticRegression()"
      ]
     },
     "execution_count": 27,
     "metadata": {},
     "output_type": "execute_result"
    }
   ],
   "source": [
    "logistic=linear_model.LogisticRegression()\n",
    "logistic.fit(x_data,y_data)"
   ]
  },
  {
   "cell_type": "code",
   "execution_count": 28,
   "metadata": {},
   "outputs": [
    {
     "name": "stdout",
     "output_type": "stream",
     "text": [
      "              precision    recall  f1-score   support\n",
      "\n",
      "         0.0       1.00      1.00      1.00       119\n",
      "         1.0       1.00      1.00      1.00        59\n",
      "\n",
      "    accuracy                           1.00       178\n",
      "   macro avg       1.00      1.00      1.00       178\n",
      "weighted avg       1.00      1.00      1.00       178\n",
      "\n"
     ]
    }
   ],
   "source": [
    "predictions=logistic.predict(x_test)\n",
    "print(classification_report(y_test,predictions))"
   ]
  },
  {
   "cell_type": "code",
   "execution_count": null,
   "metadata": {},
   "outputs": [],
   "source": []
  }
 ],
 "metadata": {
  "kernelspec": {
   "display_name": "Python 3",
   "language": "python",
   "name": "python3"
  },
  "language_info": {
   "codemirror_mode": {
    "name": "ipython",
    "version": 3
   },
   "file_extension": ".py",
   "mimetype": "text/x-python",
   "name": "python",
   "nbconvert_exporter": "python",
   "pygments_lexer": "ipython3",
   "version": "3.8.3"
  }
 },
 "nbformat": 4,
 "nbformat_minor": 4
}
