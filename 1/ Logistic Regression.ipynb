{
 "cells": [
  {
   "cell_type": "code",
   "execution_count": 15,
   "metadata": {},
   "outputs": [],
   "source": [
    "import numpy as np\n",
    "import pandas as pd\n",
    "import matplotlib.pyplot as plt"
   ]
  },
  {
   "cell_type": "code",
   "execution_count": 16,
   "metadata": {},
   "outputs": [],
   "source": [
    "PATH = './pro_data/'\n",
    "df = pd.read_csv(PATH+\"pro.titanic.csv\")\n",
    "\n"
   ]
  },
  {
   "cell_type": "code",
   "execution_count": 17,
   "metadata": {},
   "outputs": [
    {
     "name": "stdout",
     "output_type": "stream",
     "text": [
      "(713, 8)\n",
      "713\n",
      "[[1.         0.         2.         ... 0.         0.02537431 2.        ]\n",
      " [1.         0.         3.         ... 0.         0.         2.        ]\n",
      " [1.         0.         3.         ... 2.         0.13575256 2.        ]\n",
      " ...\n",
      " [1.         0.         3.         ... 2.         0.04577135 2.        ]\n",
      " [1.         1.         1.         ... 0.         0.0585561  1.        ]\n",
      " [1.         0.         3.         ... 0.         0.01512699 3.        ]]\n",
      "(713,)\n"
     ]
    }
   ],
   "source": [
    "data = df.values\n",
    "def split_train_test(data,test_ratio):\n",
    "    np.random.seed(1)\n",
    "    randomlist = np.random.permutation(len(data))\n",
    "    test_set_size = round(int(len(data)) * test_ratio) # 测试集的大小\n",
    "    test=data[:test_set_size,:]\n",
    "    train= data[test_set_size:,:]\n",
    "    return test,train\n",
    "\n",
    "test,data = split_train_test(data,0.2)\n",
    "x_data = data[:,1:]\n",
    "y_data = data[:,1]\n",
    "print(x_data.shape)\n",
    "print(x_data.shape[0])\n",
    "X_data=np.concatenate((np.ones((x_data.shape[0],1)),x_data),axis=1)\n",
    "\n",
    "x_test = test[:,1:]\n",
    "y_test = test[:,1]\n",
    "print(X_data)\n",
    "print(y_data.shape)\n",
    "y_data = y_data.reshape(713,1)"
   ]
  },
  {
   "cell_type": "code",
   "execution_count": 33,
   "metadata": {},
   "outputs": [
    {
     "name": "stdout",
     "output_type": "stream",
     "text": [
      "[[ 0.34480291]\n",
      " [ 0.36460692]\n",
      " [-0.51218064]\n",
      " [-0.95884306]\n",
      " [-1.86917515]\n",
      " [ 1.10971785]\n",
      " [-0.40703011]\n",
      " [-1.65495879]\n",
      " [ 0.75429273]]\n"
     ]
    }
   ],
   "source": [
    "def sigmoid(x):\n",
    "    return 1.0/(1+np.exp(-x))\n",
    "\n",
    "def cost(xMat,yMat,ws):\n",
    "    return np.sum((np.multiply(yMat,np.log(sigmoid(xMat*ws)))+np.multiply(1-yMat,np.log(1-sigmoid(xMat*ws)))))/-(len(xMat))\n",
    "\n",
    "\n",
    "ws = np.random.randn(9,1)\n",
    "def gradAscent(X_data,y_data,ws):\n",
    "    xMat = np.mat(X_data)  # 转化为矩阵\n",
    "    yMat = np.mat(y_data)\n",
    "    lr = 0.001   # 设置学习率和迭代次数\n",
    "    epochs = 1000\n",
    "    costList = []  # 每迭代50次 记录代价函数\n",
    "    m,n = np.shape(xMat)\n",
    " # 初始化权重\n",
    "    for i in range(epochs+1):\n",
    "        h = sigmoid(np.dot(xMat,ws))\n",
    "        ws_grad = np.dot((xMat.T),(h-yMat))/m  \n",
    "        \n",
    "        ws = ws-lr*ws_grad  # 更新权重\n",
    "        if i%50==0:\n",
    "            costList.append(cost(xMat,yMat,ws))\n",
    "    return ws,costList\n",
    "ws,costList=gradAscent(X_data,y_data,ws)\n",
    "print(ws)"
   ]
  },
  {
   "cell_type": "code",
   "execution_count": 34,
   "metadata": {},
   "outputs": [
    {
     "name": "stdout",
     "output_type": "stream",
     "text": [
      "(9, 1)\n",
      "[1.4837166061989742, 1.3492954583720587, 1.231280936752948, 1.1295689036124734, 1.043324963645717, 0.9711570888976478, 0.9113494137559841, 0.8620856578783349, 0.8216176436811847, 0.7883671743365028, 0.7609711909391893, 0.7382879613409907, 0.7193809860119279, 0.7034928145974053, 0.6900163400077579, 0.6784676258643891, 0.668462059102435, 0.659694324289958, 0.6519220382868149, 0.6449526023561363, 0.6386327504353115]\n"
     ]
    }
   ],
   "source": [
    "print(ws.shape)\n",
    "print(costList)"
   ]
  },
  {
   "cell_type": "code",
   "execution_count": 38,
   "metadata": {},
   "outputs": [
    {
     "data": {
      "image/png": "[encoded data removed]",
      "text/plain": [
       "<Figure size 432x288 with 1 Axes>"
      ]
     },
     "metadata": {
      "needs_background": "light"
     },
     "output_type": "display_data"
    }
   ],
   "source": [
    "x=np.linspace(0,1000,21)\n",
    "plt.plot(x,costList,c='r')\n",
    "plt.title('Train')\n",
    "plt.xlabel('Epochs')\n",
    "plt.ylabel('cost')\n",
    "plt.show()"
   ]
  },
  {
   "cell_type": "code",
   "execution_count": 40,
   "metadata": {},
   "outputs": [
    {
     "name": "stdout",
     "output_type": "stream",
     "text": [
      "59 2 117 0\n",
      "0.34269662921348315 1.0 0.3352272727272727 0.502127659574468\n"
     ]
    },
    {
     "data": {
      "text/plain": [
       "(1.0, 0.9831932773109243)"
      ]
     },
     "execution_count": 40,
     "metadata": {},
     "output_type": "execute_result"
    }
   ],
   "source": [
    "\n",
    "def predict(x_test,y_test,ws):\n",
    "    TP = 0\n",
    "    TN = 0\n",
    "    FP = 0\n",
    "    FN = 0\n",
    "    for i in range(x_test.shape[0]):\n",
    "        xMat = np.mat(test[i])\n",
    "        ws = np.mat(ws)\n",
    "        if (xMat*ws)>0:\n",
    "            result = 1\n",
    "        else:\n",
    "            result = 0\n",
    "            \n",
    "        if y_test[i] == 1 and result ==1:\n",
    "            TP += 1\n",
    "        if y_test[i] == 0 and result ==0:\n",
    "            TN += 1            \n",
    "        if y_test[i] == 0 and result ==1:\n",
    "            FP += 1    \n",
    "        if y_test[i] == 1 and result ==0:\n",
    "            FN += 1  \n",
    "\n",
    "    \n",
    "    R = TP / (TP + FN)\n",
    "    P = TP / (TP + FP)\n",
    "    Acc = (TP + TN) / (TP + TN + FP + FN)\n",
    "    F1 = 2 * P * R / (P + R)\n",
    "    print(TP,TN,FP,FN)\n",
    "    print(Acc,R,P,F1)\n",
    "\n",
    "    TPR = TP/(TP + FN)   # TPR其实就是查全率hhh\n",
    "    FPR = FP/(FP + TN)   # 假正例率\n",
    "    \n",
    "    return TPR,FPR\n",
    "predict(x_test,y_test,ws)\n",
    "# 正确率十分堪忧"
   ]
  },
  {
   "cell_type": "code",
   "execution_count": 37,
   "metadata": {},
   "outputs": [
    {
     "name": "stdout",
     "output_type": "stream",
     "text": [
      "0.33146067415730335\n",
      "AUC :  0.4\n"
     ]
    },
    {
     "data": {
      "image/png": "[encoded data removed]",
      "text/plain": [
       "<Figure size 432x288 with 1 Axes>"
      ]
     },
     "metadata": {
      "needs_background": "light"
     },
     "output_type": "display_data"
    }
   ],
   "source": [
    "TPR_list = [] #ROC 的纵坐标 真阳率\n",
    "FPR_list = [] #ROC 的横坐标 假正率\n",
    "threshold = 0.3  #阈值从0.3开始~~\n",
    "while threshold < 0.7: # 设置阈值\n",
    "    TP = 0\n",
    "    TN = 0\n",
    "    FP = 0\n",
    "    FN = 0\n",
    "    for i in range(x_test.shape[0]):\n",
    "        xMat = np.mat(test[i])\n",
    "        ws = np.mat(ws)\n",
    "        if sigmoid(xMat*ws).all()>threshold:\n",
    "            result = 1\n",
    "        else:\n",
    "            result = 0\n",
    "            \n",
    "        if y_test[i] == 1 and result ==1:\n",
    "            TP += 1\n",
    "        if y_test[i] == 0 and result ==0:\n",
    "            TN += 1            \n",
    "        if y_test[i] == 0 and result ==1:\n",
    "            FP += 1    \n",
    "        if y_test[i] == 1 and result ==0:\n",
    "            FN += 1 \n",
    "            \n",
    "        \n",
    "        \n",
    "    FPR = FP / (FP + TN)\n",
    "    TPR = TP / (TP + FN)\n",
    "    TPR_list.append(TPR)\n",
    "    FPR_list.append(FPR)\n",
    "        \n",
    "    threshold += 0.005\n",
    "        \n",
    "Acc = (TP + TN) / (TP + TN + FP + FN)\n",
    "print(Acc)\n",
    "        \n",
    "    #作图   \n",
    "plt.figure()\n",
    "plt.plot(FPR_list, TPR_list, color='green')  \n",
    "plt.plot([0, 1], [0, 1])   # 这图让我迷惑\n",
    "\n",
    "plt.xlabel('FPR')\n",
    "plt.ylabel('TPR')\n",
    "\n",
    "AUC = 0;\n",
    "for i in range(0,len(TPR_list)):\n",
    "    AUC += 0.005 * TPR_list[i];\n",
    "        \n",
    "print(\"AUC : \", round(AUC,3));    "
   ]
  },
  {
   "cell_type": "code",
   "execution_count": 41,
   "metadata": {},
   "outputs": [],
   "source": [
    "import matplotlib.pyplot as plt\n",
    "import numpy as np\n",
    "from sklearn.metrics import classification_report\n",
    "from sklearn import preprocessing\n",
    "from sklearn import linear_model"
   ]
  },
  {
   "cell_type": "code",
   "execution_count": 42,
   "metadata": {},
   "outputs": [
    {
     "name": "stderr",
     "output_type": "stream",
     "text": [
      "C:\\Users\\86189\\python2\\lib\\site-packages\\sklearn\\utils\\validation.py:73: DataConversionWarning: A column-vector y was passed when a 1d array was expected. Please change the shape of y to (n_samples, ), for example using ravel().\n",
      "  return f(**kwargs)\n"
     ]
    },
    {
     "data": {
      "text/plain": [
       "LogisticRegression()"
      ]
     },
     "execution_count": 42,
     "metadata": {},
     "output_type": "execute_result"
    }
   ],
   "source": [
    "logistic=linear_model.LogisticRegression()#直接调用了这个方法？?\n",
    "logistic.fit(x_data,y_data)#调用了fit方法"
   ]
  },
  {
   "cell_type": "code",
   "execution_count": 43,
   "metadata": {},
   "outputs": [
    {
     "name": "stdout",
     "output_type": "stream",
     "text": [
      "              precision    recall  f1-score   support\n",
      "\n",
      "         0.0       1.00      1.00      1.00       119\n",
      "         1.0       1.00      1.00      1.00        59\n",
      "\n",
      "    accuracy                           1.00       178\n",
      "   macro avg       1.00      1.00      1.00       178\n",
      "weighted avg       1.00      1.00      1.00       178\n",
      "\n"
     ]
    }
   ],
   "source": [
    "predictions=logistic.predict(x_test)\n",
    "print(classification_report(y_test,predictions))"
   ]
  },
  {
   "cell_type": "code",
   "execution_count": null,
   "metadata": {},
   "outputs": [],
   "source": []
  }
 ],
 "metadata": {
  "kernelspec": {
   "display_name": "Python 3",
   "language": "python",
   "name": "python3"
  },
  "language_info": {
   "codemirror_mode": {
    "name": "ipython",
    "version": 3
   },
   "file_extension": ".py",
   "mimetype": "text/x-python",
   "name": "python",
   "nbconvert_exporter": "python",
   "pygments_lexer": "ipython3",
   "version": "3.8.3"
  }
 },
 "nbformat": 4,
 "nbformat_minor": 4
}
